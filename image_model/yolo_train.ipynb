{
 "cells": [
  {
   "cell_type": "code",
   "execution_count": null,
   "id": "30037b74",
   "metadata": {
    "vscode": {
     "languageId": "plaintext"
    }
   },
   "outputs": [],
   "source": [
    "from ultralytics import YOLO\n",
    "\n",
    "# 1. 모델 불러오기 (pretrained or scratch)\n",
    "# 사전학습된 yolov8l 모델 불러오기\n",
    "model = YOLO(\"yolov8l.pt\")  \n",
    "\n",
    "# 2. 학습 실행\n",
    "results = model.train(\n",
    "    data=\"dataset/data.yaml\",  # 데이터셋 YAML 파일\n",
    "    epochs=150,                        # 학습 epoch\n",
    "    imgsz=640,                         # 이미지 크기\n",
    "    batch=64,                          # 배치 크기\n",
    "    save=True,                         # 체크포인트 저장\n",
    "    save_period=10,                    # 10 epoch마다 저장\n",
    "    project=\"runs/train\",              # 결과 저장 폴더\n",
    "    name=\"yolov8l\",                    # 실험 이름\n",
    "    exist_ok=True,                     # 덮어쓰기 허용\n",
    "    patience=15                        # early stopping patience\n",
    ")\n"
   ]
  }
 ],
 "metadata": {
  "language_info": {
   "name": "python"
  }
 },
 "nbformat": 4,
 "nbformat_minor": 5
}
